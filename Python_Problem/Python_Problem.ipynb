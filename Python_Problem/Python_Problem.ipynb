{
  "nbformat": 4,
  "nbformat_minor": 0,
  "metadata": {
    "colab": {
      "name": "Python_Problem.ipynb",
      "version": "0.3.2",
      "provenance": [],
      "collapsed_sections": []
    },
    "kernelspec": {
      "name": "python3",
      "display_name": "Python 3"
    }
  },
  "cells": [
    {
      "metadata": {
        "id": "S4w0wmiwa-me",
        "colab_type": "code",
        "colab": {}
      },
      "cell_type": "code",
      "source": [
        "import pandas as pd\n",
        "import requests\n",
        "import bs4\n",
        "from bs4 import BeautifulSoup\n",
        "from requests_oauthlib import OAuth1"
      ],
      "execution_count": 0,
      "outputs": []
    },
    {
      "metadata": {
        "id": "ZzC3GMfma-mk",
        "colab_type": "code",
        "colab": {}
      },
      "cell_type": "code",
      "source": [
        "auth_params = {\n",
        "    'app_key':'DdKKMDnqhxYDgAS1KyyR3FQJL',\n",
        "    'app_secret':'7BYKOLA1JHLcRqNQe3aBaofXLGScCYH0AgiFOmMURwgv3aoYgN',\n",
        "    'oauth_token':'1114574275489476608-2T6ZUF22mlGvKtHj1EQa5I4J2VhwTh',\n",
        "    'oauth_token_secret':'e3S4B4qf00kQ634GnL7ut33Luxly5eBNxpOns6sL9kqC7'\n",
        "}\n",
        "\n",
        "# Creating an OAuth Client connection\n",
        "auth = OAuth1 (\n",
        "    auth_params['app_key'],\n",
        "    auth_params['app_secret'],\n",
        "    auth_params['oauth_token'],\n",
        "    auth_params['oauth_token_secret']\n",
        ")"
      ],
      "execution_count": 0,
      "outputs": []
    },
    {
      "metadata": {
        "id": "S9iymWgda-mo",
        "colab_type": "code",
        "colab": {}
      },
      "cell_type": "code",
      "source": [
        "# url according to twitter API\n",
        "url_rest = \"https://api.twitter.com/1.1/search/tweets.json\"\n",
        "\n",
        "# getting rid of retweets in the extraction results and filtering all replies to the tweet often uncessary for the analysis\n",
        "q = '%@midasIIITD -filter:retweets -filter:replies' # Twitter handle of Amazon India\n",
        "\n",
        "# count : no of tweets to be retrieved per one call and parameters according to twitter API\n",
        "params = {'q': q, 'lang': 'en',  'result_type': 'recent'}\n",
        "results = requests.get(url_rest, params=params, auth=auth)"
      ],
      "execution_count": 0,
      "outputs": []
    },
    {
      "metadata": {
        "id": "NNxKPYm7a-mr",
        "colab_type": "code",
        "colab": {}
      },
      "cell_type": "code",
      "source": [
        "results = results.json()"
      ],
      "execution_count": 0,
      "outputs": []
    },
    {
      "metadata": {
        "id": "ZWM7K2OzfcTk",
        "colab_type": "code",
        "colab": {}
      },
      "cell_type": "code",
      "source": [
        "results"
      ],
      "execution_count": 0,
      "outputs": []
    },
    {
      "metadata": {
        "id": "aiTnlraEa-mu",
        "colab_type": "code",
        "colab": {
          "base_uri": "https://localhost:8080/",
          "height": 34
        },
        "outputId": "9ef018be-6bca-4e30-d1ba-1f0e19d8b52e"
      },
      "cell_type": "code",
      "source": [
        "results.keys()"
      ],
      "execution_count": 15,
      "outputs": [
        {
          "output_type": "execute_result",
          "data": {
            "text/plain": [
              "dict_keys(['statuses', 'search_metadata'])"
            ]
          },
          "metadata": {
            "tags": []
          },
          "execution_count": 15
        }
      ]
    },
    {
      "metadata": {
        "id": "3R4lrEXwa-mz",
        "colab_type": "code",
        "colab": {}
      },
      "cell_type": "code",
      "source": [
        "results['statuses']"
      ],
      "execution_count": 0,
      "outputs": []
    },
    {
      "metadata": {
        "id": "wKlX0MLMr_TY",
        "colab_type": "code",
        "colab": {}
      },
      "cell_type": "code",
      "source": [
        ""
      ],
      "execution_count": 0,
      "outputs": []
    },
    {
      "metadata": {
        "id": "lK1cLh89fgFR",
        "colab_type": "code",
        "colab": {
          "base_uri": "https://localhost:8080/",
          "height": 54
        },
        "outputId": "917b76e9-4263-4eee-b504-d546b66efed5"
      },
      "cell_type": "code",
      "source": [
        "results['statuses'][0].keys()"
      ],
      "execution_count": 20,
      "outputs": [
        {
          "output_type": "execute_result",
          "data": {
            "text/plain": [
              "dict_keys(['created_at', 'id', 'id_str', 'text', 'truncated', 'entities', 'metadata', 'source', 'in_reply_to_status_id', 'in_reply_to_status_id_str', 'in_reply_to_user_id', 'in_reply_to_user_id_str', 'in_reply_to_screen_name', 'user', 'geo', 'coordinates', 'place', 'contributors', 'is_quote_status', 'retweet_count', 'favorite_count', 'favorited', 'retweeted', 'possibly_sensitive', 'lang'])"
            ]
          },
          "metadata": {
            "tags": []
          },
          "execution_count": 20
        }
      ]
    },
    {
      "metadata": {
        "id": "2lNjE8X9jvMk",
        "colab_type": "code",
        "colab": {
          "base_uri": "https://localhost:8080/",
          "height": 34
        },
        "outputId": "0214f9af-7179-4640-c380-5792aeeac40d"
      },
      "cell_type": "code",
      "source": [
        "results['statuses'][0]['created_at']"
      ],
      "execution_count": 29,
      "outputs": [
        {
          "output_type": "execute_result",
          "data": {
            "text/plain": [
              "'Mon Apr 08 07:08:12 +0000 2019'"
            ]
          },
          "metadata": {
            "tags": []
          },
          "execution_count": 29
        }
      ]
    },
    {
      "metadata": {
        "id": "vPg4q_wzmJwl",
        "colab_type": "code",
        "colab": {
          "base_uri": "https://localhost:8080/",
          "height": 34
        },
        "outputId": "1e3d867a-75cc-486a-c66d-9de889b3039e"
      },
      "cell_type": "code",
      "source": [
        "date = results['statuses'][0]['created_at'][:11]\n",
        "date = date+results['statuses'][0]['created_at'][-4:]\n",
        "date"
      ],
      "execution_count": 30,
      "outputs": [
        {
          "output_type": "execute_result",
          "data": {
            "text/plain": [
              "'Mon Apr 08 2019'"
            ]
          },
          "metadata": {
            "tags": []
          },
          "execution_count": 30
        }
      ]
    },
    {
      "metadata": {
        "id": "dQlHMA7fnqeg",
        "colab_type": "code",
        "colab": {
          "base_uri": "https://localhost:8080/",
          "height": 34
        },
        "outputId": "3feb0e8e-f00d-49d2-af85-581a59440c18"
      },
      "cell_type": "code",
      "source": [
        "time = results['statuses'][0]['created_at'][11:-5]\n",
        "time"
      ],
      "execution_count": 35,
      "outputs": [
        {
          "output_type": "execute_result",
          "data": {
            "text/plain": [
              "'07:08:12 +0000'"
            ]
          },
          "metadata": {
            "tags": []
          },
          "execution_count": 35
        }
      ]
    },
    {
      "metadata": {
        "id": "GUbgZhkIp5YJ",
        "colab_type": "code",
        "colab": {
          "base_uri": "https://localhost:8080/",
          "height": 54
        },
        "outputId": "4aedc220-d4f5-44e1-ba20-1607bb2e5015"
      },
      "cell_type": "code",
      "source": [
        "results['statuses'][0]['text']"
      ],
      "execution_count": 38,
      "outputs": [
        {
          "output_type": "execute_result",
          "data": {
            "text/plain": [
              "'Many Congratulations to @midasIIITD student, Shagun Uppal @shagunuppls, on getting selected for the summer internsh… https://t.co/bzhiSm4zuB'"
            ]
          },
          "metadata": {
            "tags": []
          },
          "execution_count": 38
        }
      ]
    },
    {
      "metadata": {
        "id": "ieB75pglqeoo",
        "colab_type": "code",
        "colab": {
          "base_uri": "https://localhost:8080/",
          "height": 204
        },
        "outputId": "4511efae-2e2d-4fd2-adfb-3d779c5147c7"
      },
      "cell_type": "code",
      "source": [
        "for i in range(len(results['statuses'])):\n",
        "  print(results['statuses'][i]['favorite_count'])"
      ],
      "execution_count": 45,
      "outputs": [
        {
          "output_type": "stream",
          "text": [
            "13\n",
            "0\n",
            "1\n",
            "5\n",
            "4\n",
            "6\n",
            "7\n",
            "11\n",
            "8\n",
            "5\n",
            "7\n"
          ],
          "name": "stdout"
        }
      ]
    },
    {
      "metadata": {
        "id": "TXbZkL9YrJPh",
        "colab_type": "code",
        "colab": {
          "base_uri": "https://localhost:8080/",
          "height": 204
        },
        "outputId": "3ea70b96-4adc-47bb-ec99-9c2fa13f2c0a"
      },
      "cell_type": "code",
      "source": [
        "for i in range(len(results['statuses'])):\n",
        "  print(results['statuses'][i]['retweet_count'])"
      ],
      "execution_count": 46,
      "outputs": [
        {
          "output_type": "stream",
          "text": [
            "2\n",
            "0\n",
            "1\n",
            "2\n",
            "1\n",
            "1\n",
            "1\n",
            "1\n",
            "1\n",
            "1\n",
            "2\n"
          ],
          "name": "stdout"
        }
      ]
    },
    {
      "metadata": {
        "id": "Kc-VQ0kxrWOY",
        "colab_type": "code",
        "colab": {}
      },
      "cell_type": "code",
      "source": [
        "all_rows = []\n",
        "for i in range(len(results['statuses'])):\n",
        "  row = []\n",
        "  row.append(results['statuses'][i]['text'])\n",
        "  date = results['statuses'][i]['created_at'][:11]\n",
        "  date = date+results['statuses'][i]['created_at'][-4:]\n",
        "  row.append(date)\n",
        "  time = results['statuses'][i]['created_at'][11:-5]\n",
        "  row.append(time)\n",
        "  row.append(results['statuses'][i]['favorite_count'])\n",
        "  row.append(results['statuses'][i]['retweet_count'])\n",
        "  x = results['statuses'][i]['entities'].keys()\n",
        "  if 'media' in x:\n",
        "    row.append(results['statuses'][i]['entities']['media'])\n",
        "  else:\n",
        "    row.append(None)\n",
        "  all_rows.append(row)\n",
        "\n",
        "data = pd.DataFrame(all_rows,columns = ['tweet_text','Date','Time','Likes','Retweets','images'])"
      ],
      "execution_count": 0,
      "outputs": []
    },
    {
      "metadata": {
        "id": "bwI-7AwRxLAg",
        "colab_type": "code",
        "colab": {
          "base_uri": "https://localhost:8080/",
          "height": 390
        },
        "outputId": "190201fa-7cb1-494e-aeab-3954cf0a2be1"
      },
      "cell_type": "code",
      "source": [
        "data"
      ],
      "execution_count": 51,
      "outputs": [
        {
          "output_type": "execute_result",
          "data": {
            "text/html": [
              "<div>\n",
              "<style scoped>\n",
              "    .dataframe tbody tr th:only-of-type {\n",
              "        vertical-align: middle;\n",
              "    }\n",
              "\n",
              "    .dataframe tbody tr th {\n",
              "        vertical-align: top;\n",
              "    }\n",
              "\n",
              "    .dataframe thead th {\n",
              "        text-align: right;\n",
              "    }\n",
              "</style>\n",
              "<table border=\"1\" class=\"dataframe\">\n",
              "  <thead>\n",
              "    <tr style=\"text-align: right;\">\n",
              "      <th></th>\n",
              "      <th>tweet_text</th>\n",
              "      <th>Date</th>\n",
              "      <th>Time</th>\n",
              "      <th>Likes</th>\n",
              "      <th>Retweets</th>\n",
              "      <th>images</th>\n",
              "    </tr>\n",
              "  </thead>\n",
              "  <tbody>\n",
              "    <tr>\n",
              "      <th>0</th>\n",
              "      <td>Many Congratulations to @midasIIITD student, S...</td>\n",
              "      <td>Mon Apr 08 2019</td>\n",
              "      <td>07:08:12 +0000</td>\n",
              "      <td>13</td>\n",
              "      <td>2</td>\n",
              "      <td>None</td>\n",
              "    </tr>\n",
              "    <tr>\n",
              "      <th>1</th>\n",
              "      <td>My twitter developer account is taking time to...</td>\n",
              "      <td>Sun Apr 07 2019</td>\n",
              "      <td>13:45:58 +0000</td>\n",
              "      <td>0</td>\n",
              "      <td>0</td>\n",
              "      <td>None</td>\n",
              "    </tr>\n",
              "    <tr>\n",
              "      <th>2</th>\n",
              "      <td>We request all students whose interview are sc...</td>\n",
              "      <td>Sun Apr 07 2019</td>\n",
              "      <td>11:43:24 +0000</td>\n",
              "      <td>1</td>\n",
              "      <td>1</td>\n",
              "      <td>None</td>\n",
              "    </tr>\n",
              "    <tr>\n",
              "      <th>3</th>\n",
              "      <td>Other queries: \"none of the Tweeter Apis give ...</td>\n",
              "      <td>Sun Apr 07 2019</td>\n",
              "      <td>06:55:19 +0000</td>\n",
              "      <td>5</td>\n",
              "      <td>2</td>\n",
              "      <td>None</td>\n",
              "    </tr>\n",
              "    <tr>\n",
              "      <th>4</th>\n",
              "      <td>Other queries: \"do we have to make two differe...</td>\n",
              "      <td>Sun Apr 07 2019</td>\n",
              "      <td>06:53:38 +0000</td>\n",
              "      <td>4</td>\n",
              "      <td>1</td>\n",
              "      <td>None</td>\n",
              "    </tr>\n",
              "    <tr>\n",
              "      <th>5</th>\n",
              "      <td>Other queries: \"If using Twitter api, it does ...</td>\n",
              "      <td>Sun Apr 07 2019</td>\n",
              "      <td>05:32:27 +0000</td>\n",
              "      <td>6</td>\n",
              "      <td>1</td>\n",
              "      <td>None</td>\n",
              "    </tr>\n",
              "    <tr>\n",
              "      <th>6</th>\n",
              "      <td>Response to some queries asked by students on ...</td>\n",
              "      <td>Sun Apr 07 2019</td>\n",
              "      <td>05:29:40 +0000</td>\n",
              "      <td>7</td>\n",
              "      <td>1</td>\n",
              "      <td>None</td>\n",
              "    </tr>\n",
              "    <tr>\n",
              "      <th>7</th>\n",
              "      <td>We have emailed the task details to all candid...</td>\n",
              "      <td>Fri Apr 05 2019</td>\n",
              "      <td>16:08:37 +0000</td>\n",
              "      <td>11</td>\n",
              "      <td>1</td>\n",
              "      <td>None</td>\n",
              "    </tr>\n",
              "    <tr>\n",
              "      <th>8</th>\n",
              "      <td>Dear @midasIIITD internship candidates who hav...</td>\n",
              "      <td>Tue Apr 02 2019</td>\n",
              "      <td>04:20:13 +0000</td>\n",
              "      <td>8</td>\n",
              "      <td>1</td>\n",
              "      <td>None</td>\n",
              "    </tr>\n",
              "    <tr>\n",
              "      <th>9</th>\n",
              "      <td>Looking forward to your paper submission to @I...</td>\n",
              "      <td>Tue Apr 02 2019</td>\n",
              "      <td>02:44:54 +0000</td>\n",
              "      <td>5</td>\n",
              "      <td>1</td>\n",
              "      <td>None</td>\n",
              "    </tr>\n",
              "    <tr>\n",
              "      <th>10</th>\n",
              "      <td>Online application for https://t.co/DJFDrQsHZP...</td>\n",
              "      <td>Mon Apr 01 2019</td>\n",
              "      <td>06:53:08 +0000</td>\n",
              "      <td>7</td>\n",
              "      <td>2</td>\n",
              "      <td>None</td>\n",
              "    </tr>\n",
              "  </tbody>\n",
              "</table>\n",
              "</div>"
            ],
            "text/plain": [
              "                                           tweet_text             Date  \\\n",
              "0   Many Congratulations to @midasIIITD student, S...  Mon Apr 08 2019   \n",
              "1   My twitter developer account is taking time to...  Sun Apr 07 2019   \n",
              "2   We request all students whose interview are sc...  Sun Apr 07 2019   \n",
              "3   Other queries: \"none of the Tweeter Apis give ...  Sun Apr 07 2019   \n",
              "4   Other queries: \"do we have to make two differe...  Sun Apr 07 2019   \n",
              "5   Other queries: \"If using Twitter api, it does ...  Sun Apr 07 2019   \n",
              "6   Response to some queries asked by students on ...  Sun Apr 07 2019   \n",
              "7   We have emailed the task details to all candid...  Fri Apr 05 2019   \n",
              "8   Dear @midasIIITD internship candidates who hav...  Tue Apr 02 2019   \n",
              "9   Looking forward to your paper submission to @I...  Tue Apr 02 2019   \n",
              "10  Online application for https://t.co/DJFDrQsHZP...  Mon Apr 01 2019   \n",
              "\n",
              "              Time  Likes  Retweets images  \n",
              "0   07:08:12 +0000     13         2   None  \n",
              "1   13:45:58 +0000      0         0   None  \n",
              "2   11:43:24 +0000      1         1   None  \n",
              "3   06:55:19 +0000      5         2   None  \n",
              "4   06:53:38 +0000      4         1   None  \n",
              "5   05:32:27 +0000      6         1   None  \n",
              "6   05:29:40 +0000      7         1   None  \n",
              "7   16:08:37 +0000     11         1   None  \n",
              "8   04:20:13 +0000      8         1   None  \n",
              "9   02:44:54 +0000      5         1   None  \n",
              "10  06:53:08 +0000      7         2   None  "
            ]
          },
          "metadata": {
            "tags": []
          },
          "execution_count": 51
        }
      ]
    }
  ]
}