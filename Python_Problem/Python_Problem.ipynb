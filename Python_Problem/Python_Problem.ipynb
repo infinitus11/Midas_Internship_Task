{
  "nbformat": 4,
  "nbformat_minor": 0,
  "metadata": {
    "colab": {
      "name": "Python_Problem.ipynb",
      "version": "0.3.2",
      "provenance": [],
      "collapsed_sections": []
    },
    "kernelspec": {
      "name": "python3",
      "display_name": "Python 3"
    }
  },
  "cells": [
    {
      "metadata": {
        "id": "vP6n-vWowLHO",
        "colab_type": "text"
      },
      "cell_type": "markdown",
      "source": [
        "**Importing the important libraries required for the task**"
      ]
    },
    {
      "metadata": {
        "id": "S4w0wmiwa-me",
        "colab_type": "code",
        "colab": {}
      },
      "cell_type": "code",
      "source": [
        "import pandas as pd# for using the DataFrame for storing data in tabular format\n",
        "import requests# to send a get request to the twitter api for getting the data\n",
        "from requests_oauthlib import OAuth1# for creating an OAuth Client connection\n",
        "import json"
      ],
      "execution_count": 0,
      "outputs": []
    },
    {
      "metadata": {
        "id": "VyEpcruUw_Pk",
        "colab_type": "text"
      },
      "cell_type": "markdown",
      "source": [
        "**Entering the token values for accessing the Twitter API and creating a OAuth Client Connection**"
      ]
    },
    {
      "metadata": {
        "id": "ZzC3GMfma-mk",
        "colab_type": "code",
        "colab": {}
      },
      "cell_type": "code",
      "source": [
        "auth_params = {\n",
        "    'app_key':'DdKKMDnqhxYDgAS1KyyR3FQJL',\n",
        "    'app_secret':'7BYKOLA1JHLcRqNQe3aBaofXLGScCYH0AgiFOmMURwgv3aoYgN',\n",
        "    'oauth_token':'1114574275489476608-2T6ZUF22mlGvKtHj1EQa5I4J2VhwTh',\n",
        "    'oauth_token_secret':'e3S4B4qf00kQ634GnL7ut33Luxly5eBNxpOns6sL9kqC7'\n",
        "}\n",
        "\n",
        "# Creating an OAuth Client connection\n",
        "auth = OAuth1 (\n",
        "    auth_params['app_key'],\n",
        "    auth_params['app_secret'],\n",
        "    auth_params['oauth_token'],\n",
        "    auth_params['oauth_token_secret']\n",
        ")"
      ],
      "execution_count": 0,
      "outputs": []
    },
    {
      "metadata": {
        "id": "L1gjLVNPxewZ",
        "colab_type": "text"
      },
      "cell_type": "markdown",
      "source": [
        "**Sending a GET request to the URL**"
      ]
    },
    {
      "metadata": {
        "id": "S9iymWgda-mo",
        "colab_type": "code",
        "colab": {}
      },
      "cell_type": "code",
      "source": [
        "# url according to twitter API\n",
        "url_rest = \"https://api.twitter.com/1.1/search/tweets.json\"\n",
        "\n",
        "# getting rid of retweets in the extraction results and filtering all replies to the tweet often uncessary for the analysis\n",
        "q = '%@midasIIITD -filter:retweets -filter:replies'\n",
        "\n",
        "# getting the data from the api\n",
        "params = {'q': q, 'lang': 'en',  'result_type': 'recent'}\n",
        "results = requests.get(url_rest, params=params, auth=auth)# we get  a response object from this method"
      ],
      "execution_count": 0,
      "outputs": []
    },
    {
      "metadata": {
        "id": "9iXVOF53zSeJ",
        "colab_type": "text"
      },
      "cell_type": "markdown",
      "source": [
        "**convert the response object into a json**"
      ]
    },
    {
      "metadata": {
        "id": "NNxKPYm7a-mr",
        "colab_type": "code",
        "colab": {}
      },
      "cell_type": "code",
      "source": [
        "results = results.json()"
      ],
      "execution_count": 0,
      "outputs": []
    },
    {
      "metadata": {
        "id": "ZWM7K2OzfcTk",
        "colab_type": "code",
        "colab": {}
      },
      "cell_type": "code",
      "source": [
        "results# viewing the data"
      ],
      "execution_count": 0,
      "outputs": []
    },
    {
      "metadata": {
        "id": "aiTnlraEa-mu",
        "colab_type": "code",
        "outputId": "9ef018be-6bca-4e30-d1ba-1f0e19d8b52e",
        "colab": {
          "base_uri": "https://localhost:8080/",
          "height": 34
        }
      },
      "cell_type": "code",
      "source": [
        "results.keys() # viewing the keys of the dictionary"
      ],
      "execution_count": 0,
      "outputs": [
        {
          "output_type": "execute_result",
          "data": {
            "text/plain": [
              "dict_keys(['statuses', 'search_metadata'])"
            ]
          },
          "metadata": {
            "tags": []
          },
          "execution_count": 15
        }
      ]
    },
    {
      "metadata": {
        "id": "3R4lrEXwa-mz",
        "colab_type": "code",
        "colab": {}
      },
      "cell_type": "code",
      "source": [
        "results['statuses']# viewing data of each tweet "
      ],
      "execution_count": 0,
      "outputs": []
    },
    {
      "metadata": {
        "id": "lK1cLh89fgFR",
        "colab_type": "code",
        "outputId": "917b76e9-4263-4eee-b504-d546b66efed5",
        "colab": {
          "base_uri": "https://localhost:8080/",
          "height": 54
        }
      },
      "cell_type": "code",
      "source": [
        "results['statuses'][0].keys()# viewing the contents of the first tweet"
      ],
      "execution_count": 0,
      "outputs": [
        {
          "output_type": "execute_result",
          "data": {
            "text/plain": [
              "dict_keys(['created_at', 'id', 'id_str', 'text', 'truncated', 'entities', 'metadata', 'source', 'in_reply_to_status_id', 'in_reply_to_status_id_str', 'in_reply_to_user_id', 'in_reply_to_user_id_str', 'in_reply_to_screen_name', 'user', 'geo', 'coordinates', 'place', 'contributors', 'is_quote_status', 'retweet_count', 'favorite_count', 'favorited', 'retweeted', 'possibly_sensitive', 'lang'])"
            ]
          },
          "metadata": {
            "tags": []
          },
          "execution_count": 20
        }
      ]
    },
    {
      "metadata": {
        "id": "Bm97eeKW0LWa",
        "colab_type": "text"
      },
      "cell_type": "markdown",
      "source": [
        "**Extracting the Date and Time from a single String**"
      ]
    },
    {
      "metadata": {
        "id": "2lNjE8X9jvMk",
        "colab_type": "code",
        "outputId": "0214f9af-7179-4640-c380-5792aeeac40d",
        "colab": {
          "base_uri": "https://localhost:8080/",
          "height": 34
        }
      },
      "cell_type": "code",
      "source": [
        "results['statuses'][0]['created_at']"
      ],
      "execution_count": 0,
      "outputs": [
        {
          "output_type": "execute_result",
          "data": {
            "text/plain": [
              "'Mon Apr 08 07:08:12 +0000 2019'"
            ]
          },
          "metadata": {
            "tags": []
          },
          "execution_count": 29
        }
      ]
    },
    {
      "metadata": {
        "id": "ocXapMnp0WHI",
        "colab_type": "text"
      },
      "cell_type": "markdown",
      "source": [
        "**Extracting the date**"
      ]
    },
    {
      "metadata": {
        "id": "vPg4q_wzmJwl",
        "colab_type": "code",
        "outputId": "1e3d867a-75cc-486a-c66d-9de889b3039e",
        "colab": {
          "base_uri": "https://localhost:8080/",
          "height": 34
        }
      },
      "cell_type": "code",
      "source": [
        "date = results['statuses'][0]['created_at'][:11]\n",
        "date = date+results['statuses'][0]['created_at'][-4:]\n",
        "date"
      ],
      "execution_count": 0,
      "outputs": [
        {
          "output_type": "execute_result",
          "data": {
            "text/plain": [
              "'Mon Apr 08 2019'"
            ]
          },
          "metadata": {
            "tags": []
          },
          "execution_count": 30
        }
      ]
    },
    {
      "metadata": {
        "id": "5IWE2Aq10Y8x",
        "colab_type": "text"
      },
      "cell_type": "markdown",
      "source": [
        "**Extracting the time**"
      ]
    },
    {
      "metadata": {
        "id": "dQlHMA7fnqeg",
        "colab_type": "code",
        "outputId": "3feb0e8e-f00d-49d2-af85-581a59440c18",
        "colab": {
          "base_uri": "https://localhost:8080/",
          "height": 34
        }
      },
      "cell_type": "code",
      "source": [
        "time = results['statuses'][0]['created_at'][11:-5]\n",
        "time"
      ],
      "execution_count": 0,
      "outputs": [
        {
          "output_type": "execute_result",
          "data": {
            "text/plain": [
              "'07:08:12 +0000'"
            ]
          },
          "metadata": {
            "tags": []
          },
          "execution_count": 35
        }
      ]
    },
    {
      "metadata": {
        "id": "cuPCt_HN0b1o",
        "colab_type": "text"
      },
      "cell_type": "markdown",
      "source": [
        "**Viewing the text in each twitter**"
      ]
    },
    {
      "metadata": {
        "id": "GUbgZhkIp5YJ",
        "colab_type": "code",
        "outputId": "4aedc220-d4f5-44e1-ba20-1607bb2e5015",
        "colab": {
          "base_uri": "https://localhost:8080/",
          "height": 54
        }
      },
      "cell_type": "code",
      "source": [
        "results['statuses'][0]['text']"
      ],
      "execution_count": 0,
      "outputs": [
        {
          "output_type": "execute_result",
          "data": {
            "text/plain": [
              "'Many Congratulations to @midasIIITD student, Shagun Uppal @shagunuppls, on getting selected for the summer internsh… https://t.co/bzhiSm4zuB'"
            ]
          },
          "metadata": {
            "tags": []
          },
          "execution_count": 38
        }
      ]
    },
    {
      "metadata": {
        "id": "ieB75pglqeoo",
        "colab_type": "code",
        "outputId": "4511efae-2e2d-4fd2-adfb-3d779c5147c7",
        "colab": {
          "base_uri": "https://localhost:8080/",
          "height": 204
        }
      },
      "cell_type": "code",
      "source": [
        "for i in range(len(results['statuses'])):#viewing the number of likes on each tweet\n",
        "  print(results['statuses'][i]['favorite_count'])"
      ],
      "execution_count": 0,
      "outputs": [
        {
          "output_type": "stream",
          "text": [
            "13\n",
            "0\n",
            "1\n",
            "5\n",
            "4\n",
            "6\n",
            "7\n",
            "11\n",
            "8\n",
            "5\n",
            "7\n"
          ],
          "name": "stdout"
        }
      ]
    },
    {
      "metadata": {
        "id": "TXbZkL9YrJPh",
        "colab_type": "code",
        "outputId": "3ea70b96-4adc-47bb-ec99-9c2fa13f2c0a",
        "colab": {
          "base_uri": "https://localhost:8080/",
          "height": 204
        }
      },
      "cell_type": "code",
      "source": [
        "for i in range(len(results['statuses'])):# viewing the number of retweets on each tweet\n",
        "  print(results['statuses'][i]['retweet_count'])"
      ],
      "execution_count": 0,
      "outputs": [
        {
          "output_type": "stream",
          "text": [
            "2\n",
            "0\n",
            "1\n",
            "2\n",
            "1\n",
            "1\n",
            "1\n",
            "1\n",
            "1\n",
            "1\n",
            "2\n"
          ],
          "name": "stdout"
        }
      ]
    },
    {
      "metadata": {
        "id": "xEvD0eG0QEa7",
        "colab_type": "text"
      },
      "cell_type": "markdown",
      "source": [
        "**Saving The Data into jsonl file**"
      ]
    },
    {
      "metadata": {
        "id": "3aueZ00VNEpC",
        "colab_type": "code",
        "colab": {}
      },
      "cell_type": "code",
      "source": [
        "with open('data.jsonl','w') as d:\n",
        "  for i in results['statuses']:\n",
        "    json.dump(i,d)\n",
        "    d.write('\\n')"
      ],
      "execution_count": 0,
      "outputs": []
    },
    {
      "metadata": {
        "id": "MIpAZGCaPx0x",
        "colab_type": "text"
      },
      "cell_type": "markdown",
      "source": [
        "**Reading the jsonl file**"
      ]
    },
    {
      "metadata": {
        "id": "4ETy1R0mOF09",
        "colab_type": "code",
        "colab": {
          "base_uri": "https://localhost:8080/",
          "height": 34
        },
        "outputId": "18380b37-cbdc-483c-bf1d-71947720df5f"
      },
      "cell_type": "code",
      "source": [
        "with open('data.jsonl','r') as f:\n",
        "  contents = f.readlines() # each tweet dictionary is read as string\n",
        "\n",
        "print(contents) # list of strings "
      ],
      "execution_count": 15,
      "outputs": [
        {
          "output_type": "stream",
          "text": [
            "13\n"
          ],
          "name": "stdout"
        }
      ]
    },
    {
      "metadata": {
        "id": "onE_QnCe1Jzn",
        "colab_type": "text"
      },
      "cell_type": "markdown",
      "source": [
        "**Converting the data into Tabular Format using pandas DataFrame**\n",
        "\n",
        "We use json.loads to convert the string into json"
      ]
    },
    {
      "metadata": {
        "id": "Kc-VQ0kxrWOY",
        "colab_type": "code",
        "colab": {}
      },
      "cell_type": "code",
      "source": [
        "all_rows = []# a list for storing each row of the DataFrame\n",
        "for i in range(len(contents)):# traversing through each tweet\n",
        "  row = []# a list for storing the data of a single row(tweet)\n",
        "  ph = 0\n",
        "  row.append(json.loads(contents[i])['text'])# appending the text of the ith tweet\n",
        "  date = json.loads(contents[i])['created_at'][:11]\n",
        "  date = date+json.loads(contents[i])['created_at'][-4:]\n",
        "  row.append(date)#appending the date of the ith tweet\n",
        "  time = json.loads(contents[i])['created_at'][11:-5]\n",
        "  row.append(time)#appending the time of the ith tweet\n",
        "  row.append(json.loads(contents[i])['favorite_count'])#appending the number of likes on the ith tweet\n",
        "  row.append(json.loads(contents[i])['retweet_count'])#appending the number of retweets on the ith tweet\n",
        "  x = json.loads(contents[i])['entities'].keys()\n",
        "  if 'media' in x:# checking if there is an image associated with the tweet\n",
        "    for k in json.loads(contents[i])['entities']['media']:\n",
        "      \n",
        "      if k['type'] == 'photo':# checking if it is an image\n",
        "        ph = ph + 1\n",
        "  if ph>0:\n",
        "    row.append(ph)# appending the image if it exists\n",
        "  else:\n",
        "    row.append(None)# appending None if it does not exist\n",
        "    \n",
        "  all_rows.append(row)# appending the data rows into the final list\n",
        "\n",
        "data = pd.DataFrame(all_rows,columns = ['tweet_text','Date','Time','Likes','Retweets','images'])# converting the list of data rows into a DataFrame"
      ],
      "execution_count": 0,
      "outputs": []
    },
    {
      "metadata": {
        "id": "bwI-7AwRxLAg",
        "colab_type": "code",
        "outputId": "33be1bcb-3ea0-45bb-90f6-8469d913af03",
        "colab": {
          "base_uri": "https://localhost:8080/",
          "height": 452
        }
      },
      "cell_type": "code",
      "source": [
        "data# displaying the table(DataFrame) "
      ],
      "execution_count": 17,
      "outputs": [
        {
          "output_type": "execute_result",
          "data": {
            "text/html": [
              "<div>\n",
              "<style scoped>\n",
              "    .dataframe tbody tr th:only-of-type {\n",
              "        vertical-align: middle;\n",
              "    }\n",
              "\n",
              "    .dataframe tbody tr th {\n",
              "        vertical-align: top;\n",
              "    }\n",
              "\n",
              "    .dataframe thead th {\n",
              "        text-align: right;\n",
              "    }\n",
              "</style>\n",
              "<table border=\"1\" class=\"dataframe\">\n",
              "  <thead>\n",
              "    <tr style=\"text-align: right;\">\n",
              "      <th></th>\n",
              "      <th>tweet_text</th>\n",
              "      <th>Date</th>\n",
              "      <th>Time</th>\n",
              "      <th>Likes</th>\n",
              "      <th>Retweets</th>\n",
              "      <th>images</th>\n",
              "    </tr>\n",
              "  </thead>\n",
              "  <tbody>\n",
              "    <tr>\n",
              "      <th>0</th>\n",
              "      <td>We will close the submission portal for submit...</td>\n",
              "      <td>Wed Apr 10 2019</td>\n",
              "      <td>16:47:25 +0000</td>\n",
              "      <td>2</td>\n",
              "      <td>0</td>\n",
              "      <td>None</td>\n",
              "    </tr>\n",
              "    <tr>\n",
              "      <th>1</th>\n",
              "      <td>Clarification: Our earlier post which indicate...</td>\n",
              "      <td>Wed Apr 10 2019</td>\n",
              "      <td>09:01:29 +0000</td>\n",
              "      <td>1</td>\n",
              "      <td>0</td>\n",
              "      <td>None</td>\n",
              "    </tr>\n",
              "    <tr>\n",
              "      <th>2</th>\n",
              "      <td>Many Congratulations to @midasIIITD student, S...</td>\n",
              "      <td>Mon Apr 08 2019</td>\n",
              "      <td>07:08:12 +0000</td>\n",
              "      <td>18</td>\n",
              "      <td>2</td>\n",
              "      <td>None</td>\n",
              "    </tr>\n",
              "    <tr>\n",
              "      <th>3</th>\n",
              "      <td>My twitter developer account is taking time to...</td>\n",
              "      <td>Sun Apr 07 2019</td>\n",
              "      <td>13:45:58 +0000</td>\n",
              "      <td>0</td>\n",
              "      <td>0</td>\n",
              "      <td>None</td>\n",
              "    </tr>\n",
              "    <tr>\n",
              "      <th>4</th>\n",
              "      <td>We request all students whose interview are sc...</td>\n",
              "      <td>Sun Apr 07 2019</td>\n",
              "      <td>11:43:24 +0000</td>\n",
              "      <td>1</td>\n",
              "      <td>1</td>\n",
              "      <td>None</td>\n",
              "    </tr>\n",
              "    <tr>\n",
              "      <th>5</th>\n",
              "      <td>Other queries: \"none of the Tweeter Apis give ...</td>\n",
              "      <td>Sun Apr 07 2019</td>\n",
              "      <td>06:55:19 +0000</td>\n",
              "      <td>5</td>\n",
              "      <td>2</td>\n",
              "      <td>None</td>\n",
              "    </tr>\n",
              "    <tr>\n",
              "      <th>6</th>\n",
              "      <td>Other queries: \"do we have to make two differe...</td>\n",
              "      <td>Sun Apr 07 2019</td>\n",
              "      <td>06:53:38 +0000</td>\n",
              "      <td>5</td>\n",
              "      <td>1</td>\n",
              "      <td>None</td>\n",
              "    </tr>\n",
              "    <tr>\n",
              "      <th>7</th>\n",
              "      <td>Other queries: \"If using Twitter api, it does ...</td>\n",
              "      <td>Sun Apr 07 2019</td>\n",
              "      <td>05:32:27 +0000</td>\n",
              "      <td>6</td>\n",
              "      <td>1</td>\n",
              "      <td>None</td>\n",
              "    </tr>\n",
              "    <tr>\n",
              "      <th>8</th>\n",
              "      <td>Response to some queries asked by students on ...</td>\n",
              "      <td>Sun Apr 07 2019</td>\n",
              "      <td>05:29:40 +0000</td>\n",
              "      <td>7</td>\n",
              "      <td>1</td>\n",
              "      <td>None</td>\n",
              "    </tr>\n",
              "    <tr>\n",
              "      <th>9</th>\n",
              "      <td>We have emailed the task details to all candid...</td>\n",
              "      <td>Fri Apr 05 2019</td>\n",
              "      <td>16:08:37 +0000</td>\n",
              "      <td>11</td>\n",
              "      <td>1</td>\n",
              "      <td>None</td>\n",
              "    </tr>\n",
              "    <tr>\n",
              "      <th>10</th>\n",
              "      <td>Dear @midasIIITD internship candidates who hav...</td>\n",
              "      <td>Tue Apr 02 2019</td>\n",
              "      <td>04:20:13 +0000</td>\n",
              "      <td>8</td>\n",
              "      <td>1</td>\n",
              "      <td>None</td>\n",
              "    </tr>\n",
              "    <tr>\n",
              "      <th>11</th>\n",
              "      <td>Looking forward to your paper submission to @I...</td>\n",
              "      <td>Tue Apr 02 2019</td>\n",
              "      <td>02:44:54 +0000</td>\n",
              "      <td>5</td>\n",
              "      <td>1</td>\n",
              "      <td>None</td>\n",
              "    </tr>\n",
              "    <tr>\n",
              "      <th>12</th>\n",
              "      <td>Online application for https://t.co/DJFDrQsHZP...</td>\n",
              "      <td>Mon Apr 01 2019</td>\n",
              "      <td>06:53:08 +0000</td>\n",
              "      <td>7</td>\n",
              "      <td>2</td>\n",
              "      <td>None</td>\n",
              "    </tr>\n",
              "  </tbody>\n",
              "</table>\n",
              "</div>"
            ],
            "text/plain": [
              "                                           tweet_text             Date  \\\n",
              "0   We will close the submission portal for submit...  Wed Apr 10 2019   \n",
              "1   Clarification: Our earlier post which indicate...  Wed Apr 10 2019   \n",
              "2   Many Congratulations to @midasIIITD student, S...  Mon Apr 08 2019   \n",
              "3   My twitter developer account is taking time to...  Sun Apr 07 2019   \n",
              "4   We request all students whose interview are sc...  Sun Apr 07 2019   \n",
              "5   Other queries: \"none of the Tweeter Apis give ...  Sun Apr 07 2019   \n",
              "6   Other queries: \"do we have to make two differe...  Sun Apr 07 2019   \n",
              "7   Other queries: \"If using Twitter api, it does ...  Sun Apr 07 2019   \n",
              "8   Response to some queries asked by students on ...  Sun Apr 07 2019   \n",
              "9   We have emailed the task details to all candid...  Fri Apr 05 2019   \n",
              "10  Dear @midasIIITD internship candidates who hav...  Tue Apr 02 2019   \n",
              "11  Looking forward to your paper submission to @I...  Tue Apr 02 2019   \n",
              "12  Online application for https://t.co/DJFDrQsHZP...  Mon Apr 01 2019   \n",
              "\n",
              "              Time  Likes  Retweets images  \n",
              "0   16:47:25 +0000      2         0   None  \n",
              "1   09:01:29 +0000      1         0   None  \n",
              "2   07:08:12 +0000     18         2   None  \n",
              "3   13:45:58 +0000      0         0   None  \n",
              "4   11:43:24 +0000      1         1   None  \n",
              "5   06:55:19 +0000      5         2   None  \n",
              "6   06:53:38 +0000      5         1   None  \n",
              "7   05:32:27 +0000      6         1   None  \n",
              "8   05:29:40 +0000      7         1   None  \n",
              "9   16:08:37 +0000     11         1   None  \n",
              "10  04:20:13 +0000      8         1   None  \n",
              "11  02:44:54 +0000      5         1   None  \n",
              "12  06:53:08 +0000      7         2   None  "
            ]
          },
          "metadata": {
            "tags": []
          },
          "execution_count": 17
        }
      ]
    },
    {
      "metadata": {
        "id": "ohPZ1Q6QPMCq",
        "colab_type": "code",
        "colab": {}
      },
      "cell_type": "code",
      "source": [
        ""
      ],
      "execution_count": 0,
      "outputs": []
    }
  ]
}