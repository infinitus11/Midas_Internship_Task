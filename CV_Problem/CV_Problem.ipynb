{
 "cells": [
  {
   "cell_type": "code",
   "execution_count": 24,
   "metadata": {},
   "outputs": [],
   "source": [
    "import pickle\n",
    "import numpy as np\n",
    "import pandas as pd\n",
    "from matplotlib import image\n",
    "import matplotlib.pyplot as plt\n",
    "import torch\n",
    "from torch import nn\n",
    "import torch.nn.functional as F\n",
    "from torchvision import datasets,models,transforms\n",
    "import shutil\n",
    "from PIL import Image\n",
    "import numpy as np\n",
    "from sklearn.model_selection import train_test_split"
   ]
  },
  {
   "cell_type": "code",
   "execution_count": 5,
   "metadata": {},
   "outputs": [],
   "source": [
    "with open('train_image.pkl', 'rb') as f:\n",
    "    data = pickle.load(f)"
   ]
  },
  {
   "cell_type": "code",
   "execution_count": 6,
   "metadata": {},
   "outputs": [],
   "source": [
    "image = np.array(data)\n",
    "image = np.reshape(image,(8000,28,28))"
   ]
  },
  {
   "cell_type": "code",
   "execution_count": 8,
   "metadata": {},
   "outputs": [
    {
     "data": {
      "text/plain": [
       "<matplotlib.image.AxesImage at 0x7f5c0f58c978>"
      ]
     },
     "execution_count": 8,
     "metadata": {},
     "output_type": "execute_result"
    },
    {
     "data": {
      "image/png": "[encoded data removed]",
      "text/plain": [
       "<Figure size 432x288 with 1 Axes>"
      ]
     },
     "metadata": {
      "needs_background": "light"
     },
     "output_type": "display_data"
    }
   ],
   "source": [
    "plt.imshow(image[0],cmap='gray')"
   ]
  },
  {
   "cell_type": "code",
   "execution_count": 9,
   "metadata": {},
   "outputs": [],
   "source": [
    "image_data = np.reshape(image,(8000,28,28,1))"
   ]
  },
  {
   "cell_type": "code",
   "execution_count": 10,
   "metadata": {},
   "outputs": [],
   "source": [
    "with open('train_label.pkl', 'rb') as g:\n",
    "    labels = pickle.load(g)"
   ]
  },
  {
   "cell_type": "code",
   "execution_count": 11,
   "metadata": {},
   "outputs": [
    {
     "data": {
      "text/plain": [
       "{0, 2, 3, 6}"
      ]
     },
     "execution_count": 11,
     "metadata": {},
     "output_type": "execute_result"
    }
   ],
   "source": [
    "classes = set(labels)\n",
    "classes"
   ]
  },
  {
   "cell_type": "code",
   "execution_count": null,
   "metadata": {},
   "outputs": [],
   "source": [
    "import os\n",
    "os.mkdir('train')\n",
    "\n",
    "for i in classes:\n",
    "    os.mkdir('train/'+str(i))"
   ]
  },
  {
   "cell_type": "code",
   "execution_count": null,
   "metadata": {},
   "outputs": [],
   "source": [
    "os.mkdir('valid')\n",
    "\n",
    "for i in classes:\n",
    "    os.mkdir('valid/'+str(i))"
   ]
  },
  {
   "cell_type": "code",
   "execution_count": null,
   "metadata": {},
   "outputs": [],
   "source": [
    "X_train, X_valid, y_train, y_valid = train_test_split(image_data, labels, test_size=0.20, random_state=42)"
   ]
  },
  {
   "cell_type": "code",
   "execution_count": null,
   "metadata": {},
   "outputs": [],
   "source": [
    "for i in range(X_train.shape[0]):\n",
    "    img = Image.fromarray(np.array(X_train[i].reshape(28,28)).astype('uint8'))\n",
    "    img.save('train/'+str(y_train[i])+'/'+str(i)+'.jpg')\n",
    "\n",
    "for i in range(X_valid.shape[0]):\n",
    "    img = Image.fromarray(np.array(X_valid[i].reshape(28,28)).astype('uint8'))\n",
    "    img.save('valid/'+str(y_valid[i])+'/'+str(i)+'.jpg')"
   ]
  },
  {
   "cell_type": "code",
   "execution_count": 12,
   "metadata": {},
   "outputs": [],
   "source": [
    "trans = transforms.Compose([transforms.Grayscale(3),transforms.ToTensor(),transforms.Normalize([0.5,0.5,0.5],[0.5,0.5,0.5])])\n",
    "trainset = datasets.ImageFolder('train/',transform=trans)\n",
    "trainloader = torch.utils.data.DataLoader(trainset,batch_size=100,shuffle=True)\n",
    "\n",
    "validset = datasets.ImageFolder('valid/',transform=trans)\n",
    "validloader = torch.utils.data.DataLoader(validset,batch_size=100,shuffle=True)"
   ]
  },
  {
   "cell_type": "code",
   "execution_count": 13,
   "metadata": {},
   "outputs": [],
   "source": [
    "def train(model,trainloader,validloader,opt,criterion,sched,epochs=10):\n",
    "    model.cuda()\n",
    "    for e in range(epochs):\n",
    "        train_loss = 0\n",
    "        train_accuracy = 0\n",
    "        model.train()\n",
    "        for images,labels in trainloader:\n",
    "            images = images.cuda()\n",
    "            labels = labels.cuda()\n",
    "            log_probs = model(images)\n",
    "            loss = criterion(log_probs,labels)\n",
    "            ps = torch.exp(log_probs)\n",
    "            _,top_class = ps.topk(1,dim=1)\n",
    "            equals = top_class == labels.view(top_class.shape)\n",
    "            train_accuracy += torch.mean(equals.type(torch.FloatTensor))\n",
    "            opt.zero_grad()\n",
    "            loss.backward()\n",
    "            opt.step()\n",
    "            train_loss += loss.item()\n",
    "        else:\n",
    "            valid_loss = 0\n",
    "            accuracy = 0\n",
    "            model.eval()\n",
    "            with torch.no_grad():\n",
    "                for images,labels in validloader:\n",
    "                    images = images\n",
    "                    images = images.cuda()\n",
    "                    labels = labels.cuda()\n",
    "                    logps = model(images)\n",
    "                    valid_loss += criterion(logps,labels)\n",
    "                    ps = torch.exp(logps)\n",
    "                    _,top_class = ps.topk(1,dim=1)\n",
    "                    equals = top_class == labels.view(top_class.shape)\n",
    "                    accuracy += torch.mean(equals.type(torch.FloatTensor))\n",
    "            sched.step(valid_loss/len(validloader))\n",
    "            print('epoch :{}/{} '.format(e+1,epochs),\n",
    "                'train_loss :{:.3f} '.format(train_loss/len(trainloader)),\n",
    "                'test_loss :{:.3f} '.format(valid_loss/len(validloader)),\n",
    "                'test accuracy: {:.3f} '.format(accuracy/len(validloader)),\n",
    "                'train accuracy: {:.3f}'.format(train_accuracy/len(trainloader)))\n",
    "            if e%5 == 0:\n",
    "                torch.save({'model_state':model.state_dict(),'optimizer_state':optimizer.state_dict()},'models_new_1c_conv_dropout_epoch40')\n",
    "            "
   ]
  },
  {
   "cell_type": "code",
   "execution_count": 14,
   "metadata": {},
   "outputs": [],
   "source": [
    "class my_model(nn.Module):\n",
    "    def __init__(self,batch_size):\n",
    "        super().__init__()\n",
    "        self.bs = batch_size\n",
    "        self.convol = nn.Sequential(\n",
    "        nn.Conv2d(3,32,kernel_size=3,stride=1,padding=2),\n",
    "        \n",
    "        nn.ReLU(),\n",
    "        nn.BatchNorm2d(32),\n",
    "        nn.MaxPool2d(2,2),\n",
    "        \n",
    "        nn.Conv2d(32,64,kernel_size=3,stride=1,padding=2),\n",
    "        \n",
    "        nn.ReLU(),\n",
    "        nn.BatchNorm2d(64),\n",
    "        nn.MaxPool2d(2,2),\n",
    "        \n",
    "        nn.Conv2d(64,128,kernel_size=3,stride=1,padding=2),\n",
    "        \n",
    "        nn.ReLU(),\n",
    "        nn.BatchNorm2d(128),\n",
    "        nn.MaxPool2d(2,2),\n",
    "        )\n",
    "        \n",
    "        self.fc = nn.Sequential(\n",
    "                                nn.Linear(3200,2048),\n",
    "                                nn.ReLU(),\n",
    "                                 nn.Dropout(0.2),\n",
    "                                nn.Linear(2048,1024),\n",
    "                                nn.ReLU(),\n",
    "                                 nn.Dropout(0.1),\n",
    "                                nn.Linear(1024,512),\n",
    "                                nn.ReLU(),\n",
    "                                nn.Linear(512,256),\n",
    "                                nn.ReLU(),\n",
    "                                nn.Linear(256,4))\n",
    "        \n",
    "        \n",
    "    def forward(self,x):\n",
    "        x = self.convol(x)\n",
    "        x = x.view(self.bs,-1)\n",
    "        #print(x.shape)\n",
    "        x = self.fc(x)\n",
    "        #print(x.shape)\n",
    "        x = F.log_softmax(x,dim=1)\n",
    "        return x"
   ]
  },
  {
   "cell_type": "code",
   "execution_count": 15,
   "metadata": {},
   "outputs": [],
   "source": [
    "model = my_model(batch_size = 100)\n",
    "criterion = nn.NLLLoss()\n",
    "optimizer = torch.optim.Adam(model.parameters(),lr = 0.001)\n",
    "scheduler = torch.optim.lr_scheduler.ReduceLROnPlateau(optimizer,patience = 5)"
   ]
  },
  {
   "cell_type": "code",
   "execution_count": null,
   "metadata": {},
   "outputs": [],
   "source": [
    "train(model=model,trainloader=trainloader,validloader=validloader,opt=optimizer,criterion=criterion,sched=scheduler,epochs=100)"
   ]
  },
  {
   "cell_type": "code",
   "execution_count": null,
   "metadata": {},
   "outputs": [],
   "source": [
    "torch.save({'model_state':model.state_dict(),'optimizer_state':optimizer.state_dict()},'models_new_1c_conv_dropout_epoch40')"
   ]
  },
  {
   "cell_type": "code",
   "execution_count": 25,
   "metadata": {},
   "outputs": [],
   "source": [
    "st_dict = torch.load('models_new_3cconv_dropout_epoch40',map_location='cpu')"
   ]
  },
  {
   "cell_type": "code",
   "execution_count": 26,
   "metadata": {},
   "outputs": [],
   "source": [
    "model = my_model(batch_size = 1)"
   ]
  },
  {
   "cell_type": "code",
   "execution_count": 27,
   "metadata": {},
   "outputs": [],
   "source": [
    "model.load_state_dict(st_dict['model_state'])"
   ]
  },
  {
   "cell_type": "code",
   "execution_count": 28,
   "metadata": {},
   "outputs": [],
   "source": [
    "with open('test_image.pkl', 'rb') as c:\n",
    "    data = pickle.load(c)"
   ]
  },
  {
   "cell_type": "code",
   "execution_count": 29,
   "metadata": {},
   "outputs": [
    {
     "data": {
      "text/plain": [
       "2000"
      ]
     },
     "execution_count": 29,
     "metadata": {},
     "output_type": "execute_result"
    }
   ],
   "source": [
    "len(data)"
   ]
  },
  {
   "cell_type": "code",
   "execution_count": 30,
   "metadata": {},
   "outputs": [],
   "source": [
    "imgs = np.array(data)\n",
    "test_imgs = np.reshape(imgs,(2000,28,28,1))"
   ]
  },
  {
   "cell_type": "code",
   "execution_count": 31,
   "metadata": {},
   "outputs": [],
   "source": [
    "trans = transforms.Compose([transforms.Grayscale(3),transforms.ToTensor(),transforms.Normalize([0.5],[0.5])])"
   ]
  },
  {
   "cell_type": "code",
   "execution_count": 32,
   "metadata": {},
   "outputs": [],
   "source": [
    "label_mp = {'tensor(0)':0,'tensor(1)':2,'tensor(2)':3,'tensor(3)':6}"
   ]
  },
  {
   "cell_type": "code",
   "execution_count": 33,
   "metadata": {},
   "outputs": [],
   "source": [
    "model.eval()\n",
    "test_label = []\n",
    "for i in range(test_imgs.shape[0]):\n",
    "    img = Image.fromarray(np.array(test_imgs[i].reshape(28,28)).astype('uint8'))\n",
    "    img = trans(img)\n",
    "    img = torch.unsqueeze(img,dim=0)\n",
    "    log_ps = model(img)\n",
    "    ps = torch.exp(log_ps)\n",
    "    _,top_cl = ps.topk(1,dim=1)\n",
    "    test_label.append(top_cl[0][0])"
   ]
  },
  {
   "cell_type": "code",
   "execution_count": 34,
   "metadata": {},
   "outputs": [],
   "source": [
    "orig_labels = [label_mp[str(i)] for i in test_label]"
   ]
  },
  {
   "cell_type": "code",
   "execution_count": 35,
   "metadata": {},
   "outputs": [],
   "source": [
    "all_rows = []\n",
    "for i in range(len(orig_labels)):\n",
    "    l = []\n",
    "    l.append(i)\n",
    "    l.append(orig_labels[i])\n",
    "    all_rows.append(l)\n",
    "\n",
    "Preds = pd.DataFrame(all_rows,columns=['image_index','class'])\n",
    "Preds.to_csv('submission.csv',index = False)"
   ]
  },
  {
   "cell_type": "code",
   "execution_count": null,
   "metadata": {},
   "outputs": [],
   "source": []
  }
 ],
 "metadata": {
  "kernelspec": {
   "display_name": "Python 3",
   "language": "python",
   "name": "python3"
  },
  "language_info": {
   "codemirror_mode": {
    "name": "ipython",
    "version": 3
   },
   "file_extension": ".py",
   "mimetype": "text/x-python",
   "name": "python",
   "nbconvert_exporter": "python",
   "pygments_lexer": "ipython3",
   "version": "3.7.3"
  },
  "varInspector": {
   "cols": {
    "lenName": 16,
    "lenType": 16,
    "lenVar": 40
   },
   "kernels_config": {
    "python": {
     "delete_cmd_postfix": "",
     "delete_cmd_prefix": "del ",
     "library": "var_list.py",
     "varRefreshCmd": "print(var_dic_list())"
    },
    "r": {
     "delete_cmd_postfix": ") ",
     "delete_cmd_prefix": "rm(",
     "library": "var_list.r",
     "varRefreshCmd": "cat(var_dic_list()) "
    }
   },
   "types_to_exclude": [
    "module",
    "function",
    "builtin_function_or_method",
    "instance",
    "_Feature"
   ],
   "window_display": false
  }
 },
 "nbformat": 4,
 "nbformat_minor": 2
}
